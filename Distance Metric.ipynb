{
 "cells": [
  {
   "cell_type": "code",
   "execution_count": 92,
   "metadata": {},
   "outputs": [
    {
     "data": {
      "text/plain": [
       "True"
      ]
     },
     "execution_count": 92,
     "metadata": {},
     "output_type": "execute_result"
    }
   ],
   "source": [
    "import editdistance\n",
    "import math\n",
    "\n",
    "def compare(a,b,threshold=1):\n",
    "    distance = editdistance.eval(a,b)\n",
    "    scaled = distance/(math.log(1+len(min(a,b))))\n",
    "    return threshold > scaled\n",
    "    \n",
    "compare(\"aleven\",\"bleven\")\n",
    "    "
   ]
  },
  {
   "cell_type": "code",
   "execution_count": 138,
   "metadata": {},
   "outputs": [],
   "source": [
    "def stepdistance_precision(inp,ground_truth,threshold=1):\n",
    "    score = 0\n",
    "    M = len(inp)\n",
    "    for idx1, word in enumerate(inp,start=1):\n",
    "        for idx2, word2 in enumerate(ground_truth,start=1):\n",
    "            if compare(word,word2,threshold):\n",
    "                score+=(M-abs(idx1-idx2))/M\n",
    "    return score/(len(ground_truth))\n",
    "            "
   ]
  },
  {
   "cell_type": "code",
   "execution_count": 139,
   "metadata": {},
   "outputs": [
    {
     "data": {
      "text/plain": [
       "0.0"
      ]
     },
     "execution_count": 139,
     "metadata": {},
     "output_type": "execute_result"
    }
   ],
   "source": [
    "a = ['a','b','c', 'd', 'e']\n",
    "b = ['+','0','r', 's', 'f']\n",
    "\n",
    "stepdistance_precision(a,b)"
   ]
  },
  {
   "cell_type": "code",
   "execution_count": 108,
   "metadata": {},
   "outputs": [
    {
     "data": {
      "text/plain": [
       "2"
      ]
     },
     "execution_count": 108,
     "metadata": {},
     "output_type": "execute_result"
    }
   ],
   "source": [
    "import string\n",
    "def levensteinsList(inp,ground_truth,threshold):\n",
    "    result = [l for l in string.ascii_lowercase[:len(inp)]]\n",
    "    input_mapped = []\n",
    "    for word in inp:\n",
    "        for idx2, word2 in enumerate(ground_truth,start=0):\n",
    "            if compare(word,word2,threshold):\n",
    "                input_mapped.append(string.ascii_lowercase[idx2])\n",
    "    return editdistance.eval(result,input_mapped)\n",
    "\n",
    "\n",
    "a = ['aaa','bbb','ccc']\n",
    "b = ['ccc','bbb','aaa']\n",
    "levensteinsList(a,b,1)\n"
   ]
  },
  {
   "cell_type": "code",
   "execution_count": 111,
   "metadata": {},
   "outputs": [
    {
     "data": {
      "text/plain": [
       "6"
      ]
     },
     "execution_count": 111,
     "metadata": {},
     "output_type": "execute_result"
    }
   ],
   "source": [
    "editdistance.eval('abcdefg','gfedcba')\n"
   ]
  },
  {
   "cell_type": "code",
   "execution_count": null,
   "metadata": {},
   "outputs": [],
   "source": []
  }
 ],
 "metadata": {
  "kernelspec": {
   "display_name": "Python 3",
   "language": "python",
   "name": "python3"
  },
  "language_info": {
   "codemirror_mode": {
    "name": "ipython",
    "version": 3
   },
   "file_extension": ".py",
   "mimetype": "text/x-python",
   "name": "python",
   "nbconvert_exporter": "python",
   "pygments_lexer": "ipython3",
   "version": "3.6.7"
  }
 },
 "nbformat": 4,
 "nbformat_minor": 2
}
